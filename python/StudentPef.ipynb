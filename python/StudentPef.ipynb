{
 "cells": [
  {
   "cell_type": "code",
   "execution_count": 1,
   "metadata": {},
   "outputs": [
    {
     "name": "stdout",
     "output_type": "stream",
     "text": [
      "heu\n"
     ]
    }
   ],
   "source": [
    "# PREDICTING STUDENT PERFORMANCE\n"
   ]
  },
  {
   "cell_type": "code",
   "execution_count": 2,
   "metadata": {},
   "outputs": [],
   "source": [
    "import pandas as pd\n",
    "import numpy as np\n",
    "import seaborn as sns\n",
    "import matplotlib.pyplot as plt\n"
   ]
  },
  {
   "cell_type": "code",
   "execution_count": 5,
   "metadata": {},
   "outputs": [
    {
     "data": {
      "text/html": [
       "<div>\n",
       "<style scoped>\n",
       "    .dataframe tbody tr th:only-of-type {\n",
       "        vertical-align: middle;\n",
       "    }\n",
       "\n",
       "    .dataframe tbody tr th {\n",
       "        vertical-align: top;\n",
       "    }\n",
       "\n",
       "    .dataframe thead th {\n",
       "        text-align: right;\n",
       "    }\n",
       "</style>\n",
       "<table border=\"1\" class=\"dataframe\">\n",
       "  <thead>\n",
       "    <tr style=\"text-align: right;\">\n",
       "      <th></th>\n",
       "      <th>Socioeconomic Score</th>\n",
       "      <th>Study Hours</th>\n",
       "      <th>Sleep Hours</th>\n",
       "      <th>Attendance (%)</th>\n",
       "      <th>Grades</th>\n",
       "    </tr>\n",
       "  </thead>\n",
       "  <tbody>\n",
       "    <tr>\n",
       "      <th>0</th>\n",
       "      <td>0.95822</td>\n",
       "      <td>3.4</td>\n",
       "      <td>8.2</td>\n",
       "      <td>53.0</td>\n",
       "      <td>47.0</td>\n",
       "    </tr>\n",
       "    <tr>\n",
       "      <th>1</th>\n",
       "      <td>0.85566</td>\n",
       "      <td>3.2</td>\n",
       "      <td>5.9</td>\n",
       "      <td>55.0</td>\n",
       "      <td>35.0</td>\n",
       "    </tr>\n",
       "    <tr>\n",
       "      <th>2</th>\n",
       "      <td>0.68025</td>\n",
       "      <td>3.2</td>\n",
       "      <td>9.3</td>\n",
       "      <td>41.0</td>\n",
       "      <td>32.0</td>\n",
       "    </tr>\n",
       "    <tr>\n",
       "      <th>3</th>\n",
       "      <td>0.25936</td>\n",
       "      <td>3.2</td>\n",
       "      <td>8.2</td>\n",
       "      <td>47.0</td>\n",
       "      <td>34.0</td>\n",
       "    </tr>\n",
       "    <tr>\n",
       "      <th>4</th>\n",
       "      <td>0.60447</td>\n",
       "      <td>3.8</td>\n",
       "      <td>10.0</td>\n",
       "      <td>75.0</td>\n",
       "      <td>33.0</td>\n",
       "    </tr>\n",
       "  </tbody>\n",
       "</table>\n",
       "</div>"
      ],
      "text/plain": [
       "   Socioeconomic Score  Study Hours  Sleep Hours  Attendance (%)  Grades\n",
       "0              0.95822          3.4          8.2            53.0    47.0\n",
       "1              0.85566          3.2          5.9            55.0    35.0\n",
       "2              0.68025          3.2          9.3            41.0    32.0\n",
       "3              0.25936          3.2          8.2            47.0    34.0\n",
       "4              0.60447          3.8         10.0            75.0    33.0"
      ]
     },
     "execution_count": 5,
     "metadata": {},
     "output_type": "execute_result"
    }
   ],
   "source": [
    "df = pd.read_csv('C:/Users/DELL/Downloads/archive2/data.csv')\n",
    "df.head()"
   ]
  },
  {
   "cell_type": "code",
   "execution_count": 6,
   "metadata": {},
   "outputs": [
    {
     "data": {
      "text/html": [
       "<div>\n",
       "<style scoped>\n",
       "    .dataframe tbody tr th:only-of-type {\n",
       "        vertical-align: middle;\n",
       "    }\n",
       "\n",
       "    .dataframe tbody tr th {\n",
       "        vertical-align: top;\n",
       "    }\n",
       "\n",
       "    .dataframe thead th {\n",
       "        text-align: right;\n",
       "    }\n",
       "</style>\n",
       "<table border=\"1\" class=\"dataframe\">\n",
       "  <thead>\n",
       "    <tr style=\"text-align: right;\">\n",
       "      <th></th>\n",
       "      <th>count</th>\n",
       "      <th>mean</th>\n",
       "      <th>std</th>\n",
       "      <th>min</th>\n",
       "      <th>25%</th>\n",
       "      <th>50%</th>\n",
       "      <th>75%</th>\n",
       "      <th>max</th>\n",
       "    </tr>\n",
       "  </thead>\n",
       "  <tbody>\n",
       "    <tr>\n",
       "      <th>Socioeconomic Score</th>\n",
       "      <td>1388.0</td>\n",
       "      <td>0.552274</td>\n",
       "      <td>0.261272</td>\n",
       "      <td>0.10128</td>\n",
       "      <td>0.322118</td>\n",
       "      <td>0.545945</td>\n",
       "      <td>0.78961</td>\n",
       "      <td>0.99982</td>\n",
       "    </tr>\n",
       "    <tr>\n",
       "      <th>Study Hours</th>\n",
       "      <td>1388.0</td>\n",
       "      <td>4.560807</td>\n",
       "      <td>1.897581</td>\n",
       "      <td>0.80000</td>\n",
       "      <td>3.475000</td>\n",
       "      <td>3.900000</td>\n",
       "      <td>5.90000</td>\n",
       "      <td>10.00000</td>\n",
       "    </tr>\n",
       "    <tr>\n",
       "      <th>Sleep Hours</th>\n",
       "      <td>1388.0</td>\n",
       "      <td>8.047262</td>\n",
       "      <td>1.370700</td>\n",
       "      <td>4.80000</td>\n",
       "      <td>7.000000</td>\n",
       "      <td>8.400000</td>\n",
       "      <td>9.10000</td>\n",
       "      <td>10.00000</td>\n",
       "    </tr>\n",
       "    <tr>\n",
       "      <th>Attendance (%)</th>\n",
       "      <td>1388.0</td>\n",
       "      <td>58.536023</td>\n",
       "      <td>11.675287</td>\n",
       "      <td>40.00000</td>\n",
       "      <td>49.000000</td>\n",
       "      <td>57.000000</td>\n",
       "      <td>66.00000</td>\n",
       "      <td>100.00000</td>\n",
       "    </tr>\n",
       "    <tr>\n",
       "      <th>Grades</th>\n",
       "      <td>1388.0</td>\n",
       "      <td>40.691643</td>\n",
       "      <td>9.467358</td>\n",
       "      <td>32.00000</td>\n",
       "      <td>34.000000</td>\n",
       "      <td>35.000000</td>\n",
       "      <td>47.00000</td>\n",
       "      <td>91.00000</td>\n",
       "    </tr>\n",
       "  </tbody>\n",
       "</table>\n",
       "</div>"
      ],
      "text/plain": [
       "                      count       mean        std       min        25%  \\\n",
       "Socioeconomic Score  1388.0   0.552274   0.261272   0.10128   0.322118   \n",
       "Study Hours          1388.0   4.560807   1.897581   0.80000   3.475000   \n",
       "Sleep Hours          1388.0   8.047262   1.370700   4.80000   7.000000   \n",
       "Attendance (%)       1388.0  58.536023  11.675287  40.00000  49.000000   \n",
       "Grades               1388.0  40.691643   9.467358  32.00000  34.000000   \n",
       "\n",
       "                           50%       75%        max  \n",
       "Socioeconomic Score   0.545945   0.78961    0.99982  \n",
       "Study Hours           3.900000   5.90000   10.00000  \n",
       "Sleep Hours           8.400000   9.10000   10.00000  \n",
       "Attendance (%)       57.000000  66.00000  100.00000  \n",
       "Grades               35.000000  47.00000   91.00000  "
      ]
     },
     "execution_count": 6,
     "metadata": {},
     "output_type": "execute_result"
    }
   ],
   "source": [
    "df.describe().T"
   ]
  },
  {
   "cell_type": "code",
   "execution_count": 7,
   "metadata": {},
   "outputs": [
    {
     "name": "stdout",
     "output_type": "stream",
     "text": [
      "<class 'pandas.core.frame.DataFrame'>\n",
      "RangeIndex: 1388 entries, 0 to 1387\n",
      "Data columns (total 5 columns):\n",
      " #   Column               Non-Null Count  Dtype  \n",
      "---  ------               --------------  -----  \n",
      " 0   Socioeconomic Score  1388 non-null   float64\n",
      " 1   Study Hours          1388 non-null   float64\n",
      " 2   Sleep Hours          1388 non-null   float64\n",
      " 3   Attendance (%)       1388 non-null   float64\n",
      " 4   Grades               1388 non-null   float64\n",
      "dtypes: float64(5)\n",
      "memory usage: 54.3 KB\n"
     ]
    }
   ],
   "source": [
    "df.info()"
   ]
  },
  {
   "cell_type": "code",
   "execution_count": 8,
   "metadata": {},
   "outputs": [
    {
     "data": {
      "text/plain": [
       "(1388, 5)"
      ]
     },
     "execution_count": 8,
     "metadata": {},
     "output_type": "execute_result"
    }
   ],
   "source": [
    "df.shape"
   ]
  },
  {
   "cell_type": "code",
   "execution_count": 10,
   "metadata": {},
   "outputs": [
    {
     "data": {
      "image/png": "[encoded data removed]",
      "text/plain": [
       "<Figure size 1200x800 with 2 Axes>"
      ]
     },
     "metadata": {},
     "output_type": "display_data"
    }
   ],
   "source": [
    "corr = df.corr()\n",
    "plt.figure(figsize=(12,8))\n",
    "sns.heatmap(corr, annot=True, fmt = '.2f', cmap = 'coolwarm')\n",
    "plt.show()"
   ]
  },
  {
   "cell_type": "code",
   "execution_count": 11,
   "metadata": {},
   "outputs": [
    {
     "name": "stdout",
     "output_type": "stream",
     "text": [
      "<class 'pandas.core.frame.DataFrame'>\n",
      "RangeIndex: 1388 entries, 0 to 1387\n",
      "Data columns (total 5 columns):\n",
      " #   Column               Non-Null Count  Dtype  \n",
      "---  ------               --------------  -----  \n",
      " 0   Socioeconomic Score  1388 non-null   float64\n",
      " 1   Study Hours          1388 non-null   float64\n",
      " 2   Sleep Hours          1388 non-null   float64\n",
      " 3   Attendance (%)       1388 non-null   float64\n",
      " 4   Grades               1388 non-null   float64\n",
      "dtypes: float64(5)\n",
      "memory usage: 54.3 KB\n"
     ]
    }
   ],
   "source": [
    "df.info()"
   ]
  },
  {
   "cell_type": "code",
   "execution_count": 13,
   "metadata": {},
   "outputs": [
    {
     "name": "stdout",
     "output_type": "stream",
     "text": [
      "                            OLS Regression Results                            \n",
      "==============================================================================\n",
      "Dep. Variable:                 Grades   R-squared:                       0.780\n",
      "Model:                            OLS   Adj. R-squared:                  0.779\n",
      "Method:                 Least Squares   F-statistic:                     978.1\n",
      "Date:                Thu, 02 Jan 2025   Prob (F-statistic):               0.00\n",
      "Time:                        11:25:44   Log-Likelihood:                -3250.4\n",
      "No. Observations:                1110   AIC:                             6511.\n",
      "Df Residuals:                    1105   BIC:                             6536.\n",
      "Df Model:                           4                                         \n",
      "Covariance Type:            nonrobust                                         \n",
      "=======================================================================================\n",
      "                          coef    std err          t      P>|t|      [0.025      0.975]\n",
      "---------------------------------------------------------------------------------------\n",
      "const                  16.9366      1.156     14.646      0.000      14.668      19.206\n",
      "Socioeconomic Score    12.1661      0.522     23.312      0.000      11.142      13.190\n",
      "Study Hours             4.2640      0.082     51.869      0.000       4.103       4.425\n",
      "Sleep Hours             0.1906      0.101      1.891      0.059      -0.007       0.388\n",
      "Attendance (%)         -0.0664      0.013     -4.958      0.000      -0.093      -0.040\n",
      "==============================================================================\n",
      "Omnibus:                      179.103   Durbin-Watson:                   2.002\n",
      "Prob(Omnibus):                  0.000   Jarque-Bera (JB):              306.185\n",
      "Skew:                           1.020   Prob(JB):                     3.26e-67\n",
      "Kurtosis:                       4.567   Cond. No.                         518.\n",
      "==============================================================================\n",
      "\n",
      "Notes:\n",
      "[1] Standard Errors assume that the covariance matrix of the errors is correctly specified.\n"
     ]
    }
   ],
   "source": [
    "## using Linear Regression model\n",
    "import statsmodels.api as sm\n",
    "from sklearn.model_selection import train_test_split\n",
    "\n",
    "x = df[['Socioeconomic Score','Study Hours','Sleep Hours','Attendance (%)',]]\n",
    "y = df['Grades']\n",
    "\n",
    "x_train, x_test, y_train, y_test = train_test_split(x,y, test_size=0.2 , random_state=42)\n",
    "x_const = sm.add_constant(x_train)\n",
    "\n",
    "model = sm.OLS(y_train, x_const).fit()\n",
    "print(model.summary())\n",
    "\n"
   ]
  },
  {
   "cell_type": "code",
   "execution_count": null,
   "metadata": {},
   "outputs": [],
   "source": [
    "#Hypothesis\n",
    "#H0 - model is not significant\n",
    "#h1 - model is significant\n",
    "\n",
    "# Since our p-value in less than .05, we regect h0, thus there is enough evidence to support the claim that our model is significant\n",
    "# overall, from R2, 78% of of the variation in the predicted variable is explained by our predictors\n",
    "# Our model still needs improvements\n"
   ]
  }
 ],
 "metadata": {
  "kernelspec": {
   "display_name": "Python 3",
   "language": "python",
   "name": "python3"
  },
  "language_info": {
   "codemirror_mode": {
    "name": "ipython",
    "version": 3
   },
   "file_extension": ".py",
   "mimetype": "text/x-python",
   "name": "python",
   "nbconvert_exporter": "python",
   "pygments_lexer": "ipython3",
   "version": "3.13.1"
  }
 },
 "nbformat": 4,
 "nbformat_minor": 2
}
