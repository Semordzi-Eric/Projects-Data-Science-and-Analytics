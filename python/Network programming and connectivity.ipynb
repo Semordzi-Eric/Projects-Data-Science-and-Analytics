{
 "cells": [
  {
   "cell_type": "code",
   "execution_count": 1,
   "metadata": {},
   "outputs": [
    {
     "data": {
      "text/plain": [
       "'Types of Sockets:\\nStream Sockets (TCP): Used for reliable, ordered, and error-checked communication (e.g., SOCK_STREAM).\\nDatagram Sockets (UDP): Used for connectionless communication where speed is prioritized over reliability (e.g., SOCK_DGRAM).'"
      ]
     },
     "execution_count": 1,
     "metadata": {},
     "output_type": "execute_result"
    }
   ],
   "source": [
    "### SOCKET PROGRAMMING\n",
    "'''Socket programming in Python is a way to enable communication between different processes over a network using sockets. A socket is an endpoint for sending and receiving data across a network'''\n",
    "'''A socket is created using the socket module in Python. It allows you to connect to other computers or devices over a network'''\n",
    "\n",
    "### CREATING A SIMPLER SERVER AND CLIENT   \n",
    "'''Server: Listens for incoming connections and handles requests from clients.\n",
    "Client: Connects to the server to send requests and receive responses.\n",
    "''' \n",
    "'''Types of Sockets:\n",
    "Stream Sockets (TCP): Used for reliable, ordered, and error-checked communication (e.g., SOCK_STREAM).\n",
    "Datagram Sockets (UDP): Used for connectionless communication where speed is prioritized over reliability (e.g., SOCK_DGRAM).'''\n",
    "\n",
    "\n"
   ]
  },
  {
   "cell_type": "code",
   "execution_count": null,
   "metadata": {},
   "outputs": [
    {
     "name": "stdout",
     "output_type": "stream",
     "text": [
      "Server listening\n"
     ]
    }
   ],
   "source": [
    "### CREATING A SIMPLER SERVER AND CLIENT \n",
    "# Server \n",
    "import socket\n",
    "server_socket = socket.socket(socket.AF_INET, socket.SOCK_STREAM) # TCP server\n",
    "\n",
    "server_socket.bind((\"127.0.0.1\", 12345)) # Bind to IP and port\n",
    "\n",
    "server_socket.listen(1)\n",
    "print(\"Server listening\")\n",
    "\n",
    "# Accepting a connection\n",
    "client_socket, addr = server_socket.accept()\n",
    "print(f'Connected to {addr}')\n",
    "\n",
    "# recieve data\n",
    "data = client_socket.recv(1024).decide()\n",
    "print(\"Recieved:\", data)\n",
    "\n",
    "# send response \n",
    "client_socket.send(\"Hello, Cleint\").encode()\n",
    "client_socket.close()\n",
    "server_socket.close()\n",
    "\n"
   ]
  },
  {
   "cell_type": "code",
   "execution_count": null,
   "metadata": {},
   "outputs": [],
   "source": [
    "# Client\n",
    "import socket\n",
    "client_socket = socket.socket(socket.AF_INET, socket.SOCK_STREAM)"
   ]
  }
 ],
 "metadata": {
  "kernelspec": {
   "display_name": "Python 3",
   "language": "python",
   "name": "python3"
  },
  "language_info": {
   "codemirror_mode": {
    "name": "ipython",
    "version": 3
   },
   "file_extension": ".py",
   "mimetype": "text/x-python",
   "name": "python",
   "nbconvert_exporter": "python",
   "pygments_lexer": "ipython3",
   "version": "3.13.1"
  }
 },
 "nbformat": 4,
 "nbformat_minor": 2
}
