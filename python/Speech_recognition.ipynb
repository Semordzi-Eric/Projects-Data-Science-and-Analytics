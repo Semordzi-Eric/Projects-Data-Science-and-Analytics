{
 "cells": [
  {
   "cell_type": "code",
   "execution_count": 3,
   "metadata": {},
   "outputs": [
    {
     "name": "stderr",
     "output_type": "stream",
     "text": [
      "C:\\Users\\DELL\\AppData\\Roaming\\Python\\Python313\\site-packages\\whisper\\transcribe.py:132: UserWarning: FP16 is not supported on CPU; using FP32 instead\n",
      "  warnings.warn(\"FP16 is not supported on CPU; using FP32 instead\")\n"
     ]
    },
    {
     "name": "stdout",
     "output_type": "stream",
     "text": [
      " Hey, I'm Belovels Hadoop. I'm a visual effects artist, a spatial computing expert, and a cautiously optimistic AI enthusiast. I'm the host of an exciting new TED podcast, The TED AI Show. If you're afraid of losing your job to a robot or struggling to keep up with the latest tech, we made the show for you. I'm taking everything I know from my work building ARVR products at Google to my passion for making reality-bending videos. And diving deep into this crazy new technology that's changing the world as we know it. I'll be talking to our researchers, artists, journalists, and people whose jobs haven't even been invented yet to make sense of it all. Adapting to new technology is stressful, but I actually believe that there's a lot to be excited about. And a lot of important questions we should be asking. So let's figure out together how to navigate AI before it navigates us. Subscribe to The TED AI Show wherever you get your podcasts.\n"
     ]
    }
   ],
   "source": [
    "import whisper \n",
    "\n",
    "model = whisper.load_model(\"base\")\n",
    "\n",
    "\n",
    "result = model.transcribe(\"C:/Users/DELL/Downloads/ted_ai_trailer.mp3\")\n",
    "print(result['text'])\n",
    "\n"
   ]
  }
 ],
 "metadata": {
  "kernelspec": {
   "display_name": "Python 3",
   "language": "python",
   "name": "python3"
  },
  "language_info": {
   "codemirror_mode": {
    "name": "ipython",
    "version": 3
   },
   "file_extension": ".py",
   "mimetype": "text/x-python",
   "name": "python",
   "nbconvert_exporter": "python",
   "pygments_lexer": "ipython3",
   "version": "3.13.1"
  }
 },
 "nbformat": 4,
 "nbformat_minor": 2
}
