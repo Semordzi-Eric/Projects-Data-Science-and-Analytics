{
 "cells": [
  {
   "cell_type": "code",
   "execution_count": 3,
   "metadata": {},
   "outputs": [
    {
     "name": "stdout",
     "output_type": "stream",
     "text": [
      "Tech\n",
      "Name: kojo\n",
      "ID: 10966901\n",
      "Course: STat\n",
      "Level: 400\n"
     ]
    }
   ],
   "source": [
    "class Student:\n",
    "    # construct created using __init__\n",
    "    university = 'University of Ghana'\n",
    "    def __init__(self, ID, name, course, level):\n",
    "        self.ID = ID\n",
    "        self.name = name\n",
    "        self.course = course\n",
    "        self.level  = level\n",
    "        \n",
    "    def get_student_details(self):\n",
    "        print('Name:',self.name)\n",
    "        print('ID:',self.ID)\n",
    "        print('Course:',self.course)\n",
    "        print('Level:',self.level)\n",
    "        \n",
    "    def set_name(self,use_name):\n",
    "        self.name= use_name \n",
    "    # using @classmethod when dealing with class level data and not an instance 'self', instead 'cls\n",
    "        \n",
    "    @classmethod\n",
    "    def change_uni(cls, uni):\n",
    "        cls.university = uni\n",
    "    \n",
    "        \n",
    "    \n",
    "st1 = Student(10966901,'Dboi' , 'STat', 400)\n",
    "st1.set_name(\"kojo\")\n",
    "Student.change_uni('Tech')\n",
    "print(Student.university)\n",
    "st1.get_student_details()\n",
    "\n",
    "\n",
    "\n",
    "    \n",
    "    \n",
    "        \n",
    "       \n"
   ]
  },
  {
   "cell_type": "code",
   "execution_count": 4,
   "metadata": {},
   "outputs": [
    {
     "name": "stdout",
     "output_type": "stream",
     "text": [
      "<__main__.Savings_account object at 0x0000028814FA01A0>\n"
     ]
    }
   ],
   "source": [
    "class BankAccount:\n",
    "    def __init__(self, account_number, balance):\n",
    "        self.account_number = account_number\n",
    "        self.balance = balance\n",
    "        \n",
    "    def deposit(self, amount):\n",
    "        self.balance +=amount\n",
    "        print(f'Your account has been credited with GHC{amount}, Current bal:GHC{self.balance}.')\n",
    "        \n",
    "        \n",
    "    def withdraw(self, amount):\n",
    "        if self.balance >= amount:\n",
    "            self.balance -=amount\n",
    "            print(f'You have withdrawn GHC{amount}, Current bal:GHC{self.balance}.')\n",
    "        else:\n",
    "            print('Insufficient funds!!!')\n",
    "            \n",
    "    def get_balance(self):\n",
    "         print(f'Current balance:GHC{self.balance}.')\n",
    "         \n",
    "    def get_account(self):\n",
    "        return self.account_number\n",
    "    \n",
    "\n",
    "   \n",
    "    \n",
    "    \n",
    "# Inheritance\n",
    "class Savings_account(BankAccount):\n",
    "    def __init__(self, account_number,balance, interest_rate):\n",
    "        BankAccount.__init__(self, account_number,balance)\n",
    "        self.interest_rate = interest_rate\n",
    "        \n",
    "    \n",
    "    def compute_interest(self, period = 1):\n",
    "        interest =self.balance *(1+self.interest_rate)**period-1\n",
    "        print(f'Interest:{interest}')\n",
    "    \n",
    "customer_1 = Savings_account(10966901, 3491222, 0.5)\n",
    "print(customer_1)\n",
    "        \n",
    "        \n",
    "        \n",
    "    \n",
    "    \n",
    "    \n",
    "    \n",
    "    \n",
    "    \n",
    "\n",
    "\n",
    "        \n",
    "    "
   ]
  },
  {
   "cell_type": "code",
   "execution_count": null,
   "metadata": {},
   "outputs": [
    {
     "data": {
      "text/plain": [
       "500"
      ]
     },
     "execution_count": 7,
     "metadata": {},
     "output_type": "execute_result"
    }
   ],
   "source": [
    "# ENCAPSULATION( restricts direct acces to variables and methods)\n",
    "class bankAccount:\n",
    "    def __init__(self, acc_balance):\n",
    "        # by using private variables\n",
    "        self.__balance = acc_balance\n",
    "        \n",
    "    def depo(self, dep_ammount):\n",
    "        self.__balance+= dep_ammount\n",
    "        \n",
    "    def get_balance(self):\n",
    "        return self.__balance\n",
    "       \n",
    "       \n",
    "account  = bankAccount(300)\n",
    "account.depo(200)\n",
    "account.get_balance()\n",
    "account.__balance# Error"
   ]
  },
  {
   "cell_type": "code",
   "execution_count": 12,
   "metadata": {},
   "outputs": [
    {
     "data": {
      "text/plain": [
       "'some sound'"
      ]
     },
     "execution_count": 12,
     "metadata": {},
     "output_type": "execute_result"
    }
   ],
   "source": [
    "# INHERITANCE\n",
    "\n",
    "class Animal:\n",
    "    def __init__(self, name):\n",
    "        self.name = name\n",
    "    def sound(self):\n",
    "        return 'some sound'\n",
    "\n",
    "# Usable in another class\n",
    "class Bird(Animal):\n",
    "    pass\n",
    "\n",
    "bird = Bird('cute')\n",
    "bird.sound()\n",
    "\n",
    "\n",
    "        "
   ]
  },
  {
   "cell_type": "code",
   "execution_count": 15,
   "metadata": {},
   "outputs": [
    {
     "data": {
      "text/plain": [
       "'child method'"
      ]
     },
     "execution_count": 15,
     "metadata": {},
     "output_type": "execute_result"
    }
   ],
   "source": [
    "# Polymorphism( Method of overridng and overlaoding)\n",
    "# allows different classes to define the same methods\n",
    "\n",
    "# Method overriding\n",
    "class Parents:\n",
    "    def show(self):\n",
    "        return 'parent method'\n",
    "class child(Parents):\n",
    "    def show(self):\n",
    "        return 'child method'\n",
    "\n",
    "inst = child()\n",
    "inst.show()\n",
    "\n",
    "    \n"
   ]
  },
  {
   "cell_type": "code",
   "execution_count": 17,
   "metadata": {},
   "outputs": [
    {
     "data": {
      "text/plain": [
       "12"
      ]
     },
     "execution_count": 17,
     "metadata": {},
     "output_type": "execute_result"
    }
   ],
   "source": [
    "# Method Overloading ( Using default argument)\n",
    "class math:\n",
    "    def add(self, a,b,c = 0):\n",
    "        sum = a+b+c\n",
    "        return sum\n",
    "    \n",
    "ma = math()\n",
    "ma.add(2,3)\n",
    "ma.add(3,4,5)"
   ]
  },
  {
   "cell_type": "code",
   "execution_count": 18,
   "metadata": {},
   "outputs": [
    {
     "data": {
      "text/plain": [
       "50.24"
      ]
     },
     "execution_count": 18,
     "metadata": {},
     "output_type": "execute_result"
    }
   ],
   "source": [
    "#Abstraction\n",
    "from abc import ABC, abstractmethod\n",
    "\n",
    "class shape(ABC):\n",
    "    @abstractmethod\n",
    "    def area(self):\n",
    "        pass # Nb: 'pass' is a placeholder in python, it does nothing\n",
    "    \n",
    "class circle(shape):\n",
    "    def __init__(self, radius):\n",
    "        self.radius = radius\n",
    "    def area(self):\n",
    "        area= 3.14*self.radius**2\n",
    "        return area\n",
    "circ = circle(4)\n",
    "circ.area()\n",
    "        "
   ]
  },
  {
   "cell_type": "code",
   "execution_count": 24,
   "metadata": {},
   "outputs": [
    {
     "data": {
      "text/plain": [
       "4"
      ]
     },
     "execution_count": 24,
     "metadata": {},
     "output_type": "execute_result"
    }
   ],
   "source": [
    "# Special Methods\n",
    "'''__str__(self) \n",
    "Purpose: Defines a human-readable string representation of an object.\n",
    "Usage: It is called by the str() function and when you use print() on an object.'''\n",
    "'''__repr__(self)\n",
    "Purpose: Defines an unambiguous string representation of an object, primarily for debugging.\n",
    "Usage: It is called by the repr() function and in interactive sessions.'''\n",
    "'''__len__(self)\n",
    "Purpose: Defines the behavior of the built-in len() function for an object.\n",
    "Usage: It allows you to specify what len() returns when called on an instance of your class'''\n",
    "class person:\n",
    "    def __init__(self,name):\n",
    "        self.name = name\n",
    "        \n",
    "    def __str__(self):\n",
    "        return f'name form str:{self.name} '\n",
    "    def __repr__(self):\n",
    "        return f'name from repr: {self.name}'\n",
    "    def __len__(self):\n",
    "        return len(self.name)\n",
    "    \n",
    "    \n",
    "per = person('Eric')\n",
    "str(per)\n",
    "repr(per)\n",
    "len(per)"
   ]
  },
  {
   "cell_type": "code",
   "execution_count": 30,
   "metadata": {},
   "outputs": [
    {
     "data": {
      "text/plain": [
       "66"
      ]
     },
     "execution_count": 30,
     "metadata": {},
     "output_type": "execute_result"
    }
   ],
   "source": [
    "# Operator loading\n",
    "class number:\n",
    "    def __init__(self, value):\n",
    "        self.value = value\n",
    "    def __add__(self, val_2):\n",
    "        return number(self.value + val_2.value)\n",
    "num2= number(34)\n",
    "num1= number(32)\n",
    "result = num2 + num1\n",
    "result.value"
   ]
  },
  {
   "cell_type": "code",
   "execution_count": 37,
   "metadata": {},
   "outputs": [
    {
     "data": {
      "text/plain": [
       "'Eric'"
      ]
     },
     "execution_count": 37,
     "metadata": {},
     "output_type": "execute_result"
    }
   ],
   "source": [
    "'''@classmethod decorator is used to define a method that is bound to the class and not the instance of the class. This means that it receives the class as its first argument instead of an instance (like regular methods do).'''\n",
    "'''First Parameter: The first parameter is conventionally named cls, representing the class itself.\n",
    "Access to Class State: It can access and modify class state that applies across all instances of the class.\n",
    "Can be Called on the Class or Instance: You can call a class method on both the class itself and its instances.'''\n",
    "class employee:\n",
    "    company = 'Gridco'\n",
    "    \n",
    "    @classmethod\n",
    "    def get_comp(cls):\n",
    "        return cls.company\n",
    "employee.get_comp()\n",
    "\n",
    "\n",
    "class PERSON:\n",
    "    def __init__(self, name):\n",
    "        self.name = name\n",
    "    @classmethod\n",
    "    def from_full_name(cls, full_name):\n",
    "        name = full_name.split(\" \")\n",
    "        return cls(name[0])\n",
    "    \n",
    "pers = PERSON.from_full_name('Eric Dboi')\n",
    "pers.name\n",
    "\n",
    "\n"
   ]
  },
  {
   "cell_type": "code",
   "execution_count": 39,
   "metadata": {},
   "outputs": [
    {
     "data": {
      "text/plain": [
       "8"
      ]
     },
     "execution_count": 39,
     "metadata": {},
     "output_type": "execute_result"
    }
   ],
   "source": [
    "'''In Python, @staticmethod is a decorator that defines a method as a static method. This means that the method does not require access to instance or class-specific data (i.e., it does not take self or cls as its first argument). Static methods can be called on the class itself, rather than on instances of the class.\n",
    "\n",
    "Key Points:\n",
    "Static methods belong to the class and do not modify the class state or instance state.\n",
    "They can be called without creating an instance of the class.\n",
    "Useful for utility functions that don't require access to class or instance data.'''\n",
    "class MathOperation:\n",
    "    @staticmethod\n",
    "    def add(a, b):\n",
    "        return a+b\n",
    "    \n",
    "MathOperation.add(5,3)"
   ]
  },
  {
   "cell_type": "code",
   "execution_count": null,
   "metadata": {},
   "outputs": [],
   "source": [
    "'''In Python, the @property decorator is used to define a method as a property, allowing you to access it like an attribute. This is useful for encapsulating private attributes while still providing a controlled interface for getting and setting their values.\n",
    "\n",
    "Key Points:\n",
    "It allows you to define a method that can be accessed like an attribute.\n",
    "You can define getter, setter, and deleter methods for more control over attribute access.\n",
    "Promotes encapsulation and can help in validating or modifying data when attributes are accessed or changed.\n",
    "'''\n",
    "\n"
   ]
  }
 ],
 "metadata": {
  "kernelspec": {
   "display_name": "Python 3",
   "language": "python",
   "name": "python3"
  },
  "language_info": {
   "codemirror_mode": {
    "name": "ipython",
    "version": 3
   },
   "file_extension": ".py",
   "mimetype": "text/x-python",
   "name": "python",
   "nbconvert_exporter": "python",
   "pygments_lexer": "ipython3",
   "version": "3.13.1"
  }
 },
 "nbformat": 4,
 "nbformat_minor": 2
}
