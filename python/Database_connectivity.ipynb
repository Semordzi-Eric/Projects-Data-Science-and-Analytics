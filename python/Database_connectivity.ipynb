{
 "cells": [
  {
   "cell_type": "code",
   "execution_count": 23,
   "metadata": {},
   "outputs": [],
   "source": [
    "####  CONNECTING WITH DIFFERENT DATABASES\n",
    "##SQlite( comes with python)\n",
    "\n",
    "import sqlite3\n",
    "\n",
    "connect =sqlite3.connect('database.db')\n",
    "\n",
    "cursor = connect.cursor()\n",
    "\n",
    "cursor.execute(\n",
    "    '''CREATE TABLE IF NOT EXISTS USERS(\n",
    "        id INTEGER PRIMARY KEY,\n",
    "        name TEXT,\n",
    "        age INTEGER\n",
    "        \n",
    "        )'''\n",
    ")\n",
    "\n",
    "connect.commit()\n",
    "\n",
    "\n"
   ]
  },
  {
   "cell_type": "code",
   "execution_count": 24,
   "metadata": {},
   "outputs": [],
   "source": [
    "# Inserting and retrieving\n",
    "\n",
    "cursor.execute(\n",
    "    \"INSERT INTO users (name, age) VALUES (?,?)\",\n",
    "    (\"John\", 25)\n",
    ")\n",
    "connect.commit()"
   ]
  },
  {
   "cell_type": "code",
   "execution_count": 25,
   "metadata": {},
   "outputs": [],
   "source": [
    "# Retrieving data\n",
    "cursor.execute('SELECT * FROM users')\n",
    "cursor.fetchall()\n",
    "connect.close()"
   ]
  },
  {
   "cell_type": "code",
   "execution_count": 26,
   "metadata": {},
   "outputs": [],
   "source": [
    "######## MYSQL  ########\n",
    "\n",
    "import mysql.connector\n",
    "\n",
    "conn = mysql.connector.connect(\n",
    "    host=\"127.0.0.1\",\n",
    "    port=3306,\n",
    "    user=\"root\",\n",
    "    password=\"Semordzieric26@\",\n",
    "    database=\"student_database\" \n",
    "    \n",
    ")\n",
    "\n",
    "cursor =conn.cursor()\n",
    "conn.commit()"
   ]
  },
  {
   "cell_type": "code",
   "execution_count": 27,
   "metadata": {},
   "outputs": [
    {
     "data": {
      "text/plain": [
       "[(10966901, 'Eric', 'Sena', datetime.date(2002, 12, 1), 'M', '0595510537'),\n",
       " (10964321,\n",
       "  'Isaac',\n",
       "  'Semordzi',\n",
       "  datetime.date(2012, 11, 11),\n",
       "  'F',\n",
       "  '0593410537')]"
      ]
     },
     "execution_count": 27,
     "metadata": {},
     "output_type": "execute_result"
    }
   ],
   "source": [
    "# Retrieving\n",
    "cursor.execute(\"SELECT * FROM student\")\n",
    "cursor.fetchall()"
   ]
  }
 ],
 "metadata": {
  "kernelspec": {
   "display_name": "Python 3",
   "language": "python",
   "name": "python3"
  },
  "language_info": {
   "codemirror_mode": {
    "name": "ipython",
    "version": 3
   },
   "file_extension": ".py",
   "mimetype": "text/x-python",
   "name": "python",
   "nbconvert_exporter": "python",
   "pygments_lexer": "ipython3",
   "version": "3.13.1"
  }
 },
 "nbformat": 4,
 "nbformat_minor": 2
}
