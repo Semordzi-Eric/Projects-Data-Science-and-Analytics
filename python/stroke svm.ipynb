{
 "cells": [
  {
   "cell_type": "code",
   "execution_count": 29,
   "metadata": {},
   "outputs": [],
   "source": [
    "import pandas as pd\n",
    "import matplotlib.pyplot as plt\n",
    "from sklearn.model_selection import train_test_split\n",
    "from sklearn.svm import SVC\n",
    "import seaborn as sns\n"
   ]
  },
  {
   "cell_type": "code",
   "execution_count": 30,
   "metadata": {},
   "outputs": [
    {
     "data": {
      "text/plain": [
       "0       36.6\n",
       "2       32.5\n",
       "3       34.4\n",
       "4       24.0\n",
       "5       29.0\n",
       "        ... \n",
       "5104    18.6\n",
       "5106    40.0\n",
       "5107    30.6\n",
       "5108    25.6\n",
       "5109    26.2\n",
       "Name: bmi, Length: 4909, dtype: float64"
      ]
     },
     "execution_count": 30,
     "metadata": {},
     "output_type": "execute_result"
    }
   ],
   "source": [
    "df = pd.read_csv(\"C:/Users/DELL/Downloads/healthcare-dataset-stroke-data.csv\")\n",
    "df= df.dropna()\n",
    "df.isnull().sum()\n",
    "df.bmi"
   ]
  },
  {
   "cell_type": "code",
   "execution_count": 31,
   "metadata": {},
   "outputs": [
    {
     "name": "stdout",
     "output_type": "stream",
     "text": [
      "<class 'pandas.core.frame.DataFrame'>\n",
      "Index: 4909 entries, 0 to 5109\n",
      "Data columns (total 12 columns):\n",
      " #   Column             Non-Null Count  Dtype  \n",
      "---  ------             --------------  -----  \n",
      " 0   id                 4909 non-null   int64  \n",
      " 1   gender             4909 non-null   int64  \n",
      " 2   age                4909 non-null   float64\n",
      " 3   hypertension       4909 non-null   int64  \n",
      " 4   heart_disease      4909 non-null   int64  \n",
      " 5   ever_married       4909 non-null   int64  \n",
      " 6   work_type          4909 non-null   int64  \n",
      " 7   Residence_type     4909 non-null   int64  \n",
      " 8   avg_glucose_level  4909 non-null   float64\n",
      " 9   bmi                4909 non-null   float64\n",
      " 10  smoking_status     4909 non-null   int64  \n",
      " 11  stroke             4909 non-null   int64  \n",
      "dtypes: float64(3), int64(9)\n",
      "memory usage: 498.6 KB\n"
     ]
    }
   ],
   "source": [
    "from sklearn.preprocessing import LabelEncoder\n",
    "# transforming smoking status\n",
    "df.smoking_status.unique()\n",
    "df.head()\n",
    "le = LabelEncoder()\n",
    "df['smoking_status'] = le.fit_transform(df['smoking_status'])\n",
    "df['gender'] = le.fit_transform(df['gender'])\n",
    "df['ever_married'] = le.fit_transform(df['ever_married'])\n",
    "df['Residence_type'] = le.fit_transform(df['Residence_type'])\n",
    "df['work_type'] = le.fit_transform(df['work_type'])\n",
    "df.info()\n"
   ]
  },
  {
   "cell_type": "code",
   "execution_count": 32,
   "metadata": {},
   "outputs": [
    {
     "data": {
      "text/html": [
       "<div>\n",
       "<style scoped>\n",
       "    .dataframe tbody tr th:only-of-type {\n",
       "        vertical-align: middle;\n",
       "    }\n",
       "\n",
       "    .dataframe tbody tr th {\n",
       "        vertical-align: top;\n",
       "    }\n",
       "\n",
       "    .dataframe thead th {\n",
       "        text-align: right;\n",
       "    }\n",
       "</style>\n",
       "<table border=\"1\" class=\"dataframe\">\n",
       "  <thead>\n",
       "    <tr style=\"text-align: right;\">\n",
       "      <th></th>\n",
       "      <th>count</th>\n",
       "      <th>mean</th>\n",
       "      <th>std</th>\n",
       "      <th>min</th>\n",
       "      <th>25%</th>\n",
       "      <th>50%</th>\n",
       "      <th>75%</th>\n",
       "      <th>max</th>\n",
       "    </tr>\n",
       "  </thead>\n",
       "  <tbody>\n",
       "    <tr>\n",
       "      <th>id</th>\n",
       "      <td>4909.0</td>\n",
       "      <td>37064.313506</td>\n",
       "      <td>20995.098457</td>\n",
       "      <td>77.00</td>\n",
       "      <td>18605.00</td>\n",
       "      <td>37608.00</td>\n",
       "      <td>55220.00</td>\n",
       "      <td>72940.00</td>\n",
       "    </tr>\n",
       "    <tr>\n",
       "      <th>gender</th>\n",
       "      <td>4909.0</td>\n",
       "      <td>0.410063</td>\n",
       "      <td>0.492309</td>\n",
       "      <td>0.00</td>\n",
       "      <td>0.00</td>\n",
       "      <td>0.00</td>\n",
       "      <td>1.00</td>\n",
       "      <td>2.00</td>\n",
       "    </tr>\n",
       "    <tr>\n",
       "      <th>age</th>\n",
       "      <td>4909.0</td>\n",
       "      <td>42.865374</td>\n",
       "      <td>22.555115</td>\n",
       "      <td>0.08</td>\n",
       "      <td>25.00</td>\n",
       "      <td>44.00</td>\n",
       "      <td>60.00</td>\n",
       "      <td>82.00</td>\n",
       "    </tr>\n",
       "    <tr>\n",
       "      <th>hypertension</th>\n",
       "      <td>4909.0</td>\n",
       "      <td>0.091872</td>\n",
       "      <td>0.288875</td>\n",
       "      <td>0.00</td>\n",
       "      <td>0.00</td>\n",
       "      <td>0.00</td>\n",
       "      <td>0.00</td>\n",
       "      <td>1.00</td>\n",
       "    </tr>\n",
       "    <tr>\n",
       "      <th>heart_disease</th>\n",
       "      <td>4909.0</td>\n",
       "      <td>0.049501</td>\n",
       "      <td>0.216934</td>\n",
       "      <td>0.00</td>\n",
       "      <td>0.00</td>\n",
       "      <td>0.00</td>\n",
       "      <td>0.00</td>\n",
       "      <td>1.00</td>\n",
       "    </tr>\n",
       "    <tr>\n",
       "      <th>ever_married</th>\n",
       "      <td>4909.0</td>\n",
       "      <td>0.652679</td>\n",
       "      <td>0.476167</td>\n",
       "      <td>0.00</td>\n",
       "      <td>0.00</td>\n",
       "      <td>1.00</td>\n",
       "      <td>1.00</td>\n",
       "      <td>1.00</td>\n",
       "    </tr>\n",
       "    <tr>\n",
       "      <th>work_type</th>\n",
       "      <td>4909.0</td>\n",
       "      <td>2.170096</td>\n",
       "      <td>1.092593</td>\n",
       "      <td>0.00</td>\n",
       "      <td>2.00</td>\n",
       "      <td>2.00</td>\n",
       "      <td>3.00</td>\n",
       "      <td>4.00</td>\n",
       "    </tr>\n",
       "    <tr>\n",
       "      <th>Residence_type</th>\n",
       "      <td>4909.0</td>\n",
       "      <td>0.507232</td>\n",
       "      <td>0.499999</td>\n",
       "      <td>0.00</td>\n",
       "      <td>0.00</td>\n",
       "      <td>1.00</td>\n",
       "      <td>1.00</td>\n",
       "      <td>1.00</td>\n",
       "    </tr>\n",
       "    <tr>\n",
       "      <th>avg_glucose_level</th>\n",
       "      <td>4909.0</td>\n",
       "      <td>105.305150</td>\n",
       "      <td>44.424341</td>\n",
       "      <td>55.12</td>\n",
       "      <td>77.07</td>\n",
       "      <td>91.68</td>\n",
       "      <td>113.57</td>\n",
       "      <td>271.74</td>\n",
       "    </tr>\n",
       "    <tr>\n",
       "      <th>bmi</th>\n",
       "      <td>4909.0</td>\n",
       "      <td>28.893237</td>\n",
       "      <td>7.854067</td>\n",
       "      <td>10.30</td>\n",
       "      <td>23.50</td>\n",
       "      <td>28.10</td>\n",
       "      <td>33.10</td>\n",
       "      <td>97.60</td>\n",
       "    </tr>\n",
       "    <tr>\n",
       "      <th>smoking_status</th>\n",
       "      <td>4909.0</td>\n",
       "      <td>1.375433</td>\n",
       "      <td>1.067322</td>\n",
       "      <td>0.00</td>\n",
       "      <td>0.00</td>\n",
       "      <td>2.00</td>\n",
       "      <td>2.00</td>\n",
       "      <td>3.00</td>\n",
       "    </tr>\n",
       "    <tr>\n",
       "      <th>stroke</th>\n",
       "      <td>4909.0</td>\n",
       "      <td>0.042575</td>\n",
       "      <td>0.201917</td>\n",
       "      <td>0.00</td>\n",
       "      <td>0.00</td>\n",
       "      <td>0.00</td>\n",
       "      <td>0.00</td>\n",
       "      <td>1.00</td>\n",
       "    </tr>\n",
       "  </tbody>\n",
       "</table>\n",
       "</div>"
      ],
      "text/plain": [
       "                    count          mean           std    min       25%  \\\n",
       "id                 4909.0  37064.313506  20995.098457  77.00  18605.00   \n",
       "gender             4909.0      0.410063      0.492309   0.00      0.00   \n",
       "age                4909.0     42.865374     22.555115   0.08     25.00   \n",
       "hypertension       4909.0      0.091872      0.288875   0.00      0.00   \n",
       "heart_disease      4909.0      0.049501      0.216934   0.00      0.00   \n",
       "ever_married       4909.0      0.652679      0.476167   0.00      0.00   \n",
       "work_type          4909.0      2.170096      1.092593   0.00      2.00   \n",
       "Residence_type     4909.0      0.507232      0.499999   0.00      0.00   \n",
       "avg_glucose_level  4909.0    105.305150     44.424341  55.12     77.07   \n",
       "bmi                4909.0     28.893237      7.854067  10.30     23.50   \n",
       "smoking_status     4909.0      1.375433      1.067322   0.00      0.00   \n",
       "stroke             4909.0      0.042575      0.201917   0.00      0.00   \n",
       "\n",
       "                        50%       75%       max  \n",
       "id                 37608.00  55220.00  72940.00  \n",
       "gender                 0.00      1.00      2.00  \n",
       "age                   44.00     60.00     82.00  \n",
       "hypertension           0.00      0.00      1.00  \n",
       "heart_disease          0.00      0.00      1.00  \n",
       "ever_married           1.00      1.00      1.00  \n",
       "work_type              2.00      3.00      4.00  \n",
       "Residence_type         1.00      1.00      1.00  \n",
       "avg_glucose_level     91.68    113.57    271.74  \n",
       "bmi                   28.10     33.10     97.60  \n",
       "smoking_status         2.00      2.00      3.00  \n",
       "stroke                 0.00      0.00      1.00  "
      ]
     },
     "execution_count": 32,
     "metadata": {},
     "output_type": "execute_result"
    }
   ],
   "source": [
    "df.describe().T"
   ]
  },
  {
   "cell_type": "code",
   "execution_count": 33,
   "metadata": {},
   "outputs": [
    {
     "data": {
      "text/html": [
       "<div>\n",
       "<style scoped>\n",
       "    .dataframe tbody tr th:only-of-type {\n",
       "        vertical-align: middle;\n",
       "    }\n",
       "\n",
       "    .dataframe tbody tr th {\n",
       "        vertical-align: top;\n",
       "    }\n",
       "\n",
       "    .dataframe thead th {\n",
       "        text-align: right;\n",
       "    }\n",
       "</style>\n",
       "<table border=\"1\" class=\"dataframe\">\n",
       "  <thead>\n",
       "    <tr style=\"text-align: right;\">\n",
       "      <th></th>\n",
       "      <th>count</th>\n",
       "      <th>mean</th>\n",
       "      <th>std</th>\n",
       "      <th>min</th>\n",
       "      <th>25%</th>\n",
       "      <th>50%</th>\n",
       "      <th>75%</th>\n",
       "      <th>max</th>\n",
       "    </tr>\n",
       "  </thead>\n",
       "  <tbody>\n",
       "    <tr>\n",
       "      <th>id</th>\n",
       "      <td>4909.0</td>\n",
       "      <td>3.706431e+04</td>\n",
       "      <td>20995.098457</td>\n",
       "      <td>77.000000</td>\n",
       "      <td>18605.000000</td>\n",
       "      <td>37608.000000</td>\n",
       "      <td>55220.000000</td>\n",
       "      <td>72940.000000</td>\n",
       "    </tr>\n",
       "    <tr>\n",
       "      <th>gender</th>\n",
       "      <td>4909.0</td>\n",
       "      <td>4.100631e-01</td>\n",
       "      <td>0.492309</td>\n",
       "      <td>0.000000</td>\n",
       "      <td>0.000000</td>\n",
       "      <td>0.000000</td>\n",
       "      <td>1.000000</td>\n",
       "      <td>2.000000</td>\n",
       "    </tr>\n",
       "    <tr>\n",
       "      <th>age</th>\n",
       "      <td>4909.0</td>\n",
       "      <td>1.679017e-16</td>\n",
       "      <td>1.000102</td>\n",
       "      <td>-1.897119</td>\n",
       "      <td>-0.792157</td>\n",
       "      <td>0.050310</td>\n",
       "      <td>0.759755</td>\n",
       "      <td>1.735243</td>\n",
       "    </tr>\n",
       "    <tr>\n",
       "      <th>hypertension</th>\n",
       "      <td>4909.0</td>\n",
       "      <td>9.187207e-02</td>\n",
       "      <td>0.288875</td>\n",
       "      <td>0.000000</td>\n",
       "      <td>0.000000</td>\n",
       "      <td>0.000000</td>\n",
       "      <td>0.000000</td>\n",
       "      <td>1.000000</td>\n",
       "    </tr>\n",
       "    <tr>\n",
       "      <th>heart_disease</th>\n",
       "      <td>4909.0</td>\n",
       "      <td>4.950092e-02</td>\n",
       "      <td>0.216934</td>\n",
       "      <td>0.000000</td>\n",
       "      <td>0.000000</td>\n",
       "      <td>0.000000</td>\n",
       "      <td>0.000000</td>\n",
       "      <td>1.000000</td>\n",
       "    </tr>\n",
       "    <tr>\n",
       "      <th>ever_married</th>\n",
       "      <td>4909.0</td>\n",
       "      <td>6.526788e-01</td>\n",
       "      <td>0.476167</td>\n",
       "      <td>0.000000</td>\n",
       "      <td>0.000000</td>\n",
       "      <td>1.000000</td>\n",
       "      <td>1.000000</td>\n",
       "      <td>1.000000</td>\n",
       "    </tr>\n",
       "    <tr>\n",
       "      <th>work_type</th>\n",
       "      <td>4909.0</td>\n",
       "      <td>2.170096e+00</td>\n",
       "      <td>1.092593</td>\n",
       "      <td>0.000000</td>\n",
       "      <td>2.000000</td>\n",
       "      <td>2.000000</td>\n",
       "      <td>3.000000</td>\n",
       "      <td>4.000000</td>\n",
       "    </tr>\n",
       "    <tr>\n",
       "      <th>Residence_type</th>\n",
       "      <td>4909.0</td>\n",
       "      <td>5.072316e-01</td>\n",
       "      <td>0.499999</td>\n",
       "      <td>0.000000</td>\n",
       "      <td>0.000000</td>\n",
       "      <td>1.000000</td>\n",
       "      <td>1.000000</td>\n",
       "      <td>1.000000</td>\n",
       "    </tr>\n",
       "    <tr>\n",
       "      <th>avg_glucose_level</th>\n",
       "      <td>4909.0</td>\n",
       "      <td>4.631772e-17</td>\n",
       "      <td>1.000102</td>\n",
       "      <td>-1.129792</td>\n",
       "      <td>-0.635643</td>\n",
       "      <td>-0.306736</td>\n",
       "      <td>0.186062</td>\n",
       "      <td>3.746860</td>\n",
       "    </tr>\n",
       "    <tr>\n",
       "      <th>bmi</th>\n",
       "      <td>4909.0</td>\n",
       "      <td>2.894857e-18</td>\n",
       "      <td>1.000102</td>\n",
       "      <td>-2.367580</td>\n",
       "      <td>-0.686751</td>\n",
       "      <td>-0.101007</td>\n",
       "      <td>0.535670</td>\n",
       "      <td>8.748813</td>\n",
       "    </tr>\n",
       "    <tr>\n",
       "      <th>smoking_status</th>\n",
       "      <td>4909.0</td>\n",
       "      <td>1.375433e+00</td>\n",
       "      <td>1.067322</td>\n",
       "      <td>0.000000</td>\n",
       "      <td>0.000000</td>\n",
       "      <td>2.000000</td>\n",
       "      <td>2.000000</td>\n",
       "      <td>3.000000</td>\n",
       "    </tr>\n",
       "    <tr>\n",
       "      <th>stroke</th>\n",
       "      <td>4909.0</td>\n",
       "      <td>4.257486e-02</td>\n",
       "      <td>0.201917</td>\n",
       "      <td>0.000000</td>\n",
       "      <td>0.000000</td>\n",
       "      <td>0.000000</td>\n",
       "      <td>0.000000</td>\n",
       "      <td>1.000000</td>\n",
       "    </tr>\n",
       "  </tbody>\n",
       "</table>\n",
       "</div>"
      ],
      "text/plain": [
       "                    count          mean           std        min  \\\n",
       "id                 4909.0  3.706431e+04  20995.098457  77.000000   \n",
       "gender             4909.0  4.100631e-01      0.492309   0.000000   \n",
       "age                4909.0  1.679017e-16      1.000102  -1.897119   \n",
       "hypertension       4909.0  9.187207e-02      0.288875   0.000000   \n",
       "heart_disease      4909.0  4.950092e-02      0.216934   0.000000   \n",
       "ever_married       4909.0  6.526788e-01      0.476167   0.000000   \n",
       "work_type          4909.0  2.170096e+00      1.092593   0.000000   \n",
       "Residence_type     4909.0  5.072316e-01      0.499999   0.000000   \n",
       "avg_glucose_level  4909.0  4.631772e-17      1.000102  -1.129792   \n",
       "bmi                4909.0  2.894857e-18      1.000102  -2.367580   \n",
       "smoking_status     4909.0  1.375433e+00      1.067322   0.000000   \n",
       "stroke             4909.0  4.257486e-02      0.201917   0.000000   \n",
       "\n",
       "                            25%           50%           75%           max  \n",
       "id                 18605.000000  37608.000000  55220.000000  72940.000000  \n",
       "gender                 0.000000      0.000000      1.000000      2.000000  \n",
       "age                   -0.792157      0.050310      0.759755      1.735243  \n",
       "hypertension           0.000000      0.000000      0.000000      1.000000  \n",
       "heart_disease          0.000000      0.000000      0.000000      1.000000  \n",
       "ever_married           0.000000      1.000000      1.000000      1.000000  \n",
       "work_type              2.000000      2.000000      3.000000      4.000000  \n",
       "Residence_type         0.000000      1.000000      1.000000      1.000000  \n",
       "avg_glucose_level     -0.635643     -0.306736      0.186062      3.746860  \n",
       "bmi                   -0.686751     -0.101007      0.535670      8.748813  \n",
       "smoking_status         0.000000      2.000000      2.000000      3.000000  \n",
       "stroke                 0.000000      0.000000      0.000000      1.000000  "
      ]
     },
     "execution_count": 33,
     "metadata": {},
     "output_type": "execute_result"
    }
   ],
   "source": [
    "# Since standard deviations for bmi, glucose level and age are very high, this will cause bias in our model, so we standardize\n",
    "from sklearn.preprocessing import StandardScaler\n",
    "scaler = StandardScaler()\n",
    "df[['age', 'avg_glucose_level', 'bmi']] = scaler.fit_transform(df[['age', 'avg_glucose_level', 'bmi']] )\n",
    "df.describe().T"
   ]
  },
  {
   "cell_type": "code",
   "execution_count": 34,
   "metadata": {},
   "outputs": [
    {
     "data": {
      "text/plain": [
       "0.7077393075356415"
      ]
     },
     "execution_count": 34,
     "metadata": {},
     "output_type": "execute_result"
    }
   ],
   "source": [
    "# model\n",
    "x = df.drop(['stroke'], axis='columns')\n",
    "y = df['stroke']\n",
    "\n",
    "\n",
    "x_train,x_test, y_train,y_test = train_test_split(x,y, test_size=0.2)\n",
    "\n",
    "model = SVC(class_weight='balanced')\n",
    "model.fit(x_train,y_train)\n",
    "model.score(x_test, y_test)\n"
   ]
  },
  {
   "cell_type": "code",
   "execution_count": 35,
   "metadata": {},
   "outputs": [],
   "source": [
    "# We fixed the imbalance so our model score dropped, no we improve the model\n",
    "from imblearn.over_sampling import SMOTE\n",
    "smote = SMOTE(sampling_strategy='auto', random_state=42)\n",
    "x_train_resampled, y_train_resampled = smote.fit_resample(x_train, y_train)\n",
    "for kernel in ['linear', 'poly','rbf','sigmoid']:\n",
    "    model = SVC(kernel=kernel, class_weight='balanced')\n",
    "    model.fit(x_train_resampled,y_train_resampled)\n",
    "    model.score(x_test,y_test)"
   ]
  },
  {
   "cell_type": "code",
   "execution_count": 36,
   "metadata": {},
   "outputs": [
    {
     "name": "stdout",
     "output_type": "stream",
     "text": [
      "Train score:0.5057295645530939\n",
      "Test score:0.5142566191446029\n"
     ]
    }
   ],
   "source": [
    "# our model is good , we now check for overffiting\n",
    "\n",
    "train_accuracy = model.score(x_train, y_train)\n",
    "test_accuracy = model.score(x_test,y_test)\n",
    "print(f'Train score:{train_accuracy}')\n",
    "print(f'Test score:{test_accuracy}')"
   ]
  },
  {
   "cell_type": "code",
   "execution_count": 37,
   "metadata": {},
   "outputs": [
    {
     "data": {
      "text/plain": [
       "'Diagonal values (TP & TN) → Correct predictions.\\nOff-diagonal values (FP & FN) → Misclassifications.\\nc'"
      ]
     },
     "execution_count": 37,
     "metadata": {},
     "output_type": "execute_result"
    }
   ],
   "source": [
    "# confusion matrix\n",
    "from sklearn.metrics import confusion_matrix\n",
    "y_pred = model.predict(x_test)\n",
    "cm = confusion_matrix(y_test, y_pred)\n",
    "cm\n",
    "'''Diagonal values (TP & TN) → Correct predictions.\n",
    "Off-diagonal values (FP & FN) → Misclassifications.\n",
    "c'''"
   ]
  },
  {
   "cell_type": "code",
   "execution_count": 38,
   "metadata": {},
   "outputs": [
    {
     "name": "stdout",
     "output_type": "stream",
     "text": [
      "              precision    recall  f1-score   support\n",
      "\n",
      "           0       0.96      0.51      0.67       935\n",
      "           1       0.05      0.53      0.09        47\n",
      "\n",
      "    accuracy                           0.51       982\n",
      "   macro avg       0.50      0.52      0.38       982\n",
      "weighted avg       0.91      0.51      0.64       982\n",
      "\n"
     ]
    }
   ],
   "source": [
    "# classification report\n",
    "from sklearn.metrics import classification_report\n",
    "print(classification_report(y_test,y_pred))"
   ]
  },
  {
   "cell_type": "code",
   "execution_count": 39,
   "metadata": {},
   "outputs": [
    {
     "name": "stdout",
     "output_type": "stream",
     "text": [
      "0.5226419387871203\n"
     ]
    }
   ],
   "source": [
    "# for imbalance data\n",
    "from sklearn.metrics import roc_auc_score\n",
    "roc = roc_auc_score(y_test,y_pred)\n",
    "print(roc)\n"
   ]
  },
  {
   "cell_type": "code",
   "execution_count": 40,
   "metadata": {},
   "outputs": [
    {
     "name": "stdout",
     "output_type": "stream",
     "text": [
      "{np.int64(0): np.int64(3765), np.int64(1): np.int64(162)}\n"
     ]
    }
   ],
   "source": [
    "# we check for imbalance\n",
    "import numpy as np\n",
    "\n",
    "unique, counts = np.unique(y_train, return_counts=True)\n",
    "print(dict(zip(unique,counts)))\n"
   ]
  },
  {
   "cell_type": "code",
   "execution_count": 41,
   "metadata": {},
   "outputs": [
    {
     "name": "stdout",
     "output_type": "stream",
     "text": [
      "hkei\n"
     ]
    }
   ],
   "source": [
    "print('hkei')"
   ]
  }
 ],
 "metadata": {
  "kernelspec": {
   "display_name": "Python 3",
   "language": "python",
   "name": "python3"
  },
  "language_info": {
   "codemirror_mode": {
    "name": "ipython",
    "version": 3
   },
   "file_extension": ".py",
   "mimetype": "text/x-python",
   "name": "python",
   "nbconvert_exporter": "python",
   "pygments_lexer": "ipython3",
   "version": "3.13.1"
  }
 },
 "nbformat": 4,
 "nbformat_minor": 2
}
