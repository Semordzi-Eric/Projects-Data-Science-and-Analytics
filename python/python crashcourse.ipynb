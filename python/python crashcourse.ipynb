{
 "cells": [
  {
   "cell_type": "code",
   "execution_count": 1,
   "metadata": {},
   "outputs": [
    {
     "name": "stdout",
     "output_type": "stream",
     "text": [
      "hello world\n"
     ]
    }
   ],
   "source": [
    "print('hello world')\n"
   ]
  },
  {
   "cell_type": "code",
   "execution_count": 3,
   "metadata": {},
   "outputs": [
    {
     "name": "stdout",
     "output_type": "stream",
     "text": [
      "<class 'int'>\n",
      "2 5 3\n"
     ]
    }
   ],
   "source": [
    "x= 5\n",
    "print(type(x))\n",
    "a,b,c = 2,5,3\n",
    "print(a,b,c)"
   ]
  },
  {
   "cell_type": "code",
   "execution_count": 4,
   "metadata": {},
   "outputs": [
    {
     "name": "stdout",
     "output_type": "stream",
     "text": [
      "apple mango cherry\n"
     ]
    }
   ],
   "source": [
    "#unpacking a collection\n",
    "fruits =['apple', 'mango','cherry']\n",
    "x, y,z = fruits\n",
    "print(x,y,z)"
   ]
  },
  {
   "cell_type": "code",
   "execution_count": 5,
   "metadata": {},
   "outputs": [
    {
     "name": "stdout",
     "output_type": "stream",
     "text": [
      "Global word password\n"
     ]
    }
   ],
   "source": [
    "#Global variables, all variables created outside of a function\n",
    "x ='password'\n",
    "def funct():\n",
    "    print('Global word',x)\n",
    "funct()"
   ]
  },
  {
   "cell_type": "code",
   "execution_count": 8,
   "metadata": {},
   "outputs": [
    {
     "name": "stdout",
     "output_type": "stream",
     "text": [
      "IN var:  in var\n"
     ]
    }
   ],
   "source": [
    "# creating variables inside a function, this is called a local variable\n",
    "def myfunc():\n",
    "    y = \"in var\"\n",
    "    print('IN var: ', y)\n",
    "myfunc()"
   ]
  },
  {
   "cell_type": "code",
   "execution_count": 11,
   "metadata": {},
   "outputs": [
    {
     "name": "stdout",
     "output_type": "stream",
     "text": [
      "var from func; Declared global\n",
      "from globe: Declared global\n"
     ]
    }
   ],
   "source": [
    "# if you use the keyword 'global', the variable becomes global even in a local function\n",
    "def gfunc():\n",
    "    global t\n",
    "    t = 'Declared global'\n",
    "    print('var from func;', t)\n",
    "gfunc()   \n",
    "print('from globe:', t)"
   ]
  },
  {
   "cell_type": "code",
   "execution_count": 13,
   "metadata": {},
   "outputs": [
    {
     "name": "stdout",
     "output_type": "stream",
     "text": [
      "from func global func\n",
      "from globe: global func\n"
     ]
    }
   ],
   "source": [
    "f ='global func'\n",
    "def f_func():\n",
    "    global f\n",
    "    print('from func', f)\n",
    "f_func()\n",
    "    \n",
    "print('from globe:', f)"
   ]
  },
  {
   "cell_type": "code",
   "execution_count": 14,
   "metadata": {},
   "outputs": [
    {
     "name": "stdout",
     "output_type": "stream",
     "text": [
      "gen awesome\n"
     ]
    }
   ],
   "source": [
    "x = 'awesome'\n",
    "def mfunc():\n",
    "    x = 'fantastic'\n",
    "    print('funt:', x)\n",
    "print('gen', x)"
   ]
  },
  {
   "cell_type": "code",
   "execution_count": 16,
   "metadata": {},
   "outputs": [
    {
     "name": "stdout",
     "output_type": "stream",
     "text": [
      "<class 'list'>\n",
      "hoe\n",
      "john\n",
      "me\n"
     ]
    }
   ],
   "source": [
    "# Data types\n",
    "#list\n",
    "names = ['hoe', 'john', 'me']\n",
    "print(type(names))\n",
    "for i in names:\n",
    "    print(i)"
   ]
  },
  {
   "cell_type": "code",
   "execution_count": 17,
   "metadata": {},
   "outputs": [
    {
     "data": {
      "text/plain": [
       "tuple"
      ]
     },
     "execution_count": 17,
     "metadata": {},
     "output_type": "execute_result"
    }
   ],
   "source": [
    "# Tuples\n",
    "courses = ('math', 'science', 'religion')\n",
    "type(courses)"
   ]
  },
  {
   "cell_type": "code",
   "execution_count": 35,
   "metadata": {},
   "outputs": [
    {
     "name": "stdout",
     "output_type": "stream",
     "text": [
      "name\n",
      "model\n",
      "year\n",
      "colors\n",
      "electric\n",
      "Speed\n"
     ]
    },
    {
     "data": {
      "text/plain": [
       "{'name': 'mclearen',\n",
       " 'model': 'mecedes',\n",
       " 'year': 1999,\n",
       " 'colors': ['red', 'green', 'blue'],\n",
       " 'electric': True,\n",
       " 'Speed': '234kmph'}"
      ]
     },
     "execution_count": 35,
     "metadata": {},
     "output_type": "execute_result"
    }
   ],
   "source": [
    "#Dictionary, like excel sheet\n",
    "cars = {\n",
    "    'brand':'Ford',\n",
    "    'model': 'Mustang',\n",
    "    'year':1999,\n",
    "    'colors':['red', 'yello', 'green']  ,\n",
    "    'electric': False\n",
    "         }\n",
    "\n",
    "\n",
    "\n",
    "#Dic constructor\n",
    "new_cars = dict(name = 'mclearen',\n",
    "                model = 'mecedes', \n",
    "                year = 4994 ,\n",
    "                colors = ['red','green', 'blue'],\n",
    "                electric = True\n",
    "                \n",
    "                \n",
    "                )\n",
    "# Adding new entry\n",
    "new_cars[\"Speed\"] =  '234kmph'\n",
    "new_cars\n",
    "# key is column header, value is \n",
    "\n",
    "for key in new_cars:\n",
    "    print(key) \n",
    "    \n",
    "# updating \n",
    "new_cars['year'] = 1999\n",
    "new_cars\n",
    "\n",
    "# Difference between dictionary and data frames\n",
    "# dataframes are two dimensional, with rows and columns, dictionary stores data in key and value pair\n"
   ]
  },
  {
   "cell_type": "code",
   "execution_count": 40,
   "metadata": {},
   "outputs": [
    {
     "name": "stdout",
     "output_type": "stream",
     "text": [
      "You're Logged In!!!\n"
     ]
    }
   ],
   "source": [
    "# if else\n",
    "user_password = 'dboi'\n",
    "password = 'dboi'\n",
    "\n",
    "\n",
    "if user_password == password:\n",
    "    print(\"You're Logged In!!!\")\n",
    "elif user_password != password:\n",
    "    print('Incorrect password')\n",
    "    \n",
    "\n",
    "    \n",
    "\n"
   ]
  },
  {
   "cell_type": "code",
   "execution_count": 45,
   "metadata": {},
   "outputs": [
    {
     "name": "stdout",
     "output_type": "stream",
     "text": [
      "a is in range\n"
     ]
    }
   ],
   "source": [
    "a= 30\n",
    "b = 40\n",
    "if a >19 and a < 40:\n",
    "    print(\"a is in range\")\n"
   ]
  },
  {
   "cell_type": "code",
   "execution_count": 49,
   "metadata": {},
   "outputs": [],
   "source": [
    "#pass statement\n",
    "# if incase the if statement is empty, use 'pass' to avoid error\n",
    "a = 33\n",
    "b =55\n",
    "if a>b:\n",
    "    print('True')\n",
    "else:\n",
    "    pass\n",
    "    "
   ]
  },
  {
   "cell_type": "code",
   "execution_count": 54,
   "metadata": {},
   "outputs": [
    {
     "name": "stdout",
     "output_type": "stream",
     "text": [
      "5\n"
     ]
    }
   ],
   "source": [
    "# Loops\n",
    "#while loops\n",
    "i = 0\n",
    "sum =0\n",
    "while i<5:\n",
    "    sum+=1\n",
    "    i+=1\n",
    "print(sum)\n",
    "    \n",
    "    \n",
    "\n",
    "    \n",
    "\n",
    "\n"
   ]
  },
  {
   "cell_type": "code",
   "execution_count": 57,
   "metadata": {},
   "outputs": [
    {
     "name": "stdout",
     "output_type": "stream",
     "text": [
      "5\n"
     ]
    }
   ],
   "source": [
    "#exit loop when a is 5\n",
    "a = 0\n",
    "while a <10:\n",
    "    a+=1\n",
    "    if a ==5:\n",
    "        break\n",
    "print(a)\n"
   ]
  },
  {
   "cell_type": "code",
   "execution_count": 59,
   "metadata": {},
   "outputs": [
    {
     "name": "stdout",
     "output_type": "stream",
     "text": [
      "apple\n",
      "banana\n",
      "cherry\n",
      "grapes\n"
     ]
    }
   ],
   "source": [
    "# For loops\n",
    "# use for iterating through list or \n",
    "\n",
    "fruits = [\"apple\", \"banana\", \"cherry\",'grapes', 'orange']\n",
    "for i in fruits:\n",
    "    print(i)\n",
    "    if i =='grapes':\n",
    "        break\n"
   ]
  },
  {
   "cell_type": "code",
   "execution_count": 60,
   "metadata": {},
   "outputs": [
    {
     "name": "stdout",
     "output_type": "stream",
     "text": [
      "dubai\n"
     ]
    }
   ],
   "source": [
    "# Functions\n",
    "#default parameter\n",
    "def my_country(country = 'ghana'):\n",
    "    print(country)\n",
    "my_country('dubai')"
   ]
  },
  {
   "cell_type": "code",
   "execution_count": 62,
   "metadata": {},
   "outputs": [
    {
     "data": {
      "text/plain": [
       "'tomatoes'"
      ]
     },
     "execution_count": 62,
     "metadata": {},
     "output_type": "execute_result"
    }
   ],
   "source": [
    "#passing a list  as an argument\n",
    "def ingredient(food):\n",
    "    for i in food:\n",
    "        print(i)\n",
    "        \n",
    "ing = ['tomatoes', 'onion', 'garlic']\n",
    "\n",
    "ingredient(ing)\n"
   ]
  },
  {
   "cell_type": "code",
   "execution_count": 66,
   "metadata": {},
   "outputs": [
    {
     "data": {
      "text/plain": [
       "('area:', 1288)"
      ]
     },
     "execution_count": 66,
     "metadata": {},
     "output_type": "execute_result"
    }
   ],
   "source": [
    "# return statements\n",
    "\n",
    "def area(l, b):\n",
    "    sum = l*b\n",
    "    return 'area:',sum\n",
    "\n",
    "area(23,56)"
   ]
  },
  {
   "cell_type": "code",
   "execution_count": 68,
   "metadata": {},
   "outputs": [],
   "source": [
    "# for undefined functions use 'pass'\n",
    "def reg():\n",
    "    pass\n",
    "\n"
   ]
  },
  {
   "cell_type": "code",
   "execution_count": 71,
   "metadata": {},
   "outputs": [
    {
     "data": {
      "text/plain": [
       "datetime.datetime(2025, 2, 22, 16, 45, 28, 422230)"
      ]
     },
     "execution_count": 71,
     "metadata": {},
     "output_type": "execute_result"
    }
   ],
   "source": [
    "# datetime\n",
    "import datetime\n",
    "x = datetime.datetime.now()\n",
    "x"
   ]
  },
  {
   "cell_type": "code",
   "execution_count": 72,
   "metadata": {},
   "outputs": [
    {
     "data": {
      "text/plain": [
       "datetime.datetime(2022, 1, 22, 0, 0)"
      ]
     },
     "execution_count": 72,
     "metadata": {},
     "output_type": "execute_result"
    }
   ],
   "source": [
    "# creating datetime object\n",
    "x = datetime.datetime(2022, 1,22)\n",
    "x"
   ]
  },
  {
   "cell_type": "code",
   "execution_count": 6,
   "metadata": {},
   "outputs": [
    {
     "name": "stdout",
     "output_type": "stream",
     "text": [
      "Invalid user name\n"
     ]
    }
   ],
   "source": [
    "#exceptions handle errors \n",
    "'''\n",
    "try:\n",
    "    # Code that may raise an exception\n",
    "except ExceptionType:\n",
    "    # Code to handle the exception\n",
    "'''\n",
    "\n",
    "# handling input error\n",
    "try:\n",
    "    num = int(input('Enter your name:'))\n",
    "    print('user name:',num)\n",
    "except ValueError:\n",
    "    print('Invalid user name')\n",
    "    "
   ]
  },
  {
   "cell_type": "code",
   "execution_count": 9,
   "metadata": {},
   "outputs": [
    {
     "name": "stdout",
     "output_type": "stream",
     "text": [
      "1.0\n"
     ]
    }
   ],
   "source": [
    "# devision by 0\n",
    "try:\n",
    "    nm = int(input('Enter numerator:'))\n",
    "    dm = int(input('Enter denomenator:'))\n",
    "    fract= nm/dm\n",
    "    print(fract)\n",
    "    \n",
    "except ZeroDivisionError:\n",
    "    print('Math error')\n",
    "    "
   ]
  },
  {
   "cell_type": "code",
   "execution_count": 17,
   "metadata": {},
   "outputs": [
    {
     "name": "stdout",
     "output_type": "stream",
     "text": [
      "Try again!!\n",
      "Try again!!\n",
      "Try again!!\n",
      "Account Locked\n"
     ]
    }
   ],
   "source": [
    "# password system\n",
    "user_passcode = 'dboisena21'\n",
    "\n",
    "attempts = 0\n",
    "max_attempt=3\n",
    "\n",
    "while attempts <max_attempt:\n",
    "    entered_passcode = input('Enter password: ')\n",
    "    if entered_passcode == user_passcode:\n",
    "        print('Logged in succesfully!!!!')\n",
    "        break\n",
    "    elif entered_passcode != user_passcode :\n",
    "        print('Try again!!')\n",
    "        attempts+=1\n",
    "print('Account Locked')\n",
    "\n",
    "    "
   ]
  },
  {
   "cell_type": "code",
   "execution_count": 3,
   "metadata": {},
   "outputs": [
    {
     "data": {
      "image/png": "[encoded data removed]",
      "text/plain": [
       "<Figure size 640x480 with 1 Axes>"
      ]
     },
     "metadata": {},
     "output_type": "display_data"
    },
    {
     "name": "stdout",
     "output_type": "stream",
     "text": [
      "1.448407334749208\n"
     ]
    }
   ],
   "source": [
    "import numpy as np\n",
    "import matplotlib.pyplot as plt \n",
    "\n",
    "\n",
    "\n",
    "x = np.random.uniform(0,5,10000)\n",
    "plt.hist(x,100)\n",
    "plt.show()\n",
    "print(np.std(x))\n"
   ]
  },
  {
   "cell_type": "code",
   "execution_count": 10,
   "metadata": {},
   "outputs": [
    {
     "data": {
      "image/png": "[encoded data removed]",
      "text/plain": [
       "<Figure size 640x480 with 1 Axes>"
      ]
     },
     "metadata": {},
     "output_type": "display_data"
    },
    {
     "name": "stdout",
     "output_type": "stream",
     "text": [
      "1.0004389326833807\n"
     ]
    }
   ],
   "source": [
    "y = np.random.normal(5,1,1000000)\n",
    "plt.hist(y, 100)\n",
    "plt.show()\n",
    "print(np.std(y))"
   ]
  }
 ],
 "metadata": {
  "kernelspec": {
   "display_name": "Python 3",
   "language": "python",
   "name": "python3"
  },
  "language_info": {
   "codemirror_mode": {
    "name": "ipython",
    "version": 3
   },
   "file_extension": ".py",
   "mimetype": "text/x-python",
   "name": "python",
   "nbconvert_exporter": "python",
   "pygments_lexer": "ipython3",
   "version": "3.13.1"
  }
 },
 "nbformat": 4,
 "nbformat_minor": 2
}
