{
 "cells": [
  {
   "cell_type": "code",
   "execution_count": null,
   "metadata": {},
   "outputs": [],
   "source": [
    "# ADD AND REMOVE ITEMS USING PYTHON\n",
    "# BACKEND\n",
    "\n",
    "from flask import Flask, render_template, request, redirect, url_for\n",
    "# render_template for loading html, request for access to data from user, redirect refreshes pageor direct to different page, url_for generates url for route\n",
    "\n",
    "app  = Flask(__name__)\n",
    "items = [] # to hold list \n",
    "\n",
    "@app.route('/') # runs function when user enters the page\n",
    "def index():\n",
    "    return render_template('index.html', items = items) # runs html and pass currents items list to display on web\n",
    "\n",
    "\n",
    "# Adding Item\n",
    "@app.route('/add', methods =['POST']) # for submitting forms\n",
    "def index():\n",
    "    item = request.form.get('item')  \n",
    "    if item:\n",
    "        items.append(item)            # check if item in form then adds to list\n",
    "    return redirect(url_for('index'))\n",
    "\n",
    "# Deletes items\n",
    "@app.route('/delete/<int:item_id') #indexes items with item_id, \n",
    "def delete(item_id):\n",
    "    if 0 <= item_id< len(items):\n",
    "        items.pop(item_id)\n",
    "    return redirect(url_for('index')) # redirects back to homepage\n",
    "\n",
    "if __name__ == '__main__':\n",
    "    app.run(debug=True)\n",
    "\n"
   ]
  }
 ],
 "metadata": {
  "kernelspec": {
   "display_name": "Python 3",
   "language": "python",
   "name": "python3"
  },
  "language_info": {
   "codemirror_mode": {
    "name": "ipython",
    "version": 3
   },
   "file_extension": ".py",
   "mimetype": "text/x-python",
   "name": "python",
   "nbconvert_exporter": "python",
   "pygments_lexer": "ipython3",
   "version": "3.13.1"
  }
 },
 "nbformat": 4,
 "nbformat_minor": 2
}
