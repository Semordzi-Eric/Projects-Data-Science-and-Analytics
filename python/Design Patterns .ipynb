{
 "cells": [
  {
   "cell_type": "code",
   "execution_count": 4,
   "metadata": {},
   "outputs": [
    {
     "name": "stdout",
     "output_type": "stream",
     "text": [
      "True\n"
     ]
    }
   ],
   "source": [
    "# DESIGN PATTERNS\n",
    "\n",
    "# CREATIONAL DESIGN PATTERNS\n",
    "# - Singleton pattern( ensures only one instance of a class exists)\n",
    "'''__new__ Method in Python\n",
    "The __new__ method in Python is a special method that is responsible for creating a new instance of a class before __init__ initializes it.\n",
    "\n",
    "📌 Key Points:\n",
    "✅ __new__ is a static method that takes cls (class reference) as the first argument.\n",
    "✅ It is called before __init__.\n",
    "✅ It returns an instance of the class (or a different class).\n",
    "✅ It is useful for implementing Singleton, Factory, and Immutable objects.'''\n",
    "\n",
    "class Singleton:\n",
    "    _instance = None  \n",
    "\n",
    "    def __new__(cls):\n",
    "        if cls._instance is None:\n",
    "            cls._instance = super().__new__(cls)\n",
    "        return cls._instance\n",
    "\n",
    "obj1 = Singleton()\n",
    "obj2 = Singleton()\n",
    "\n",
    "print(obj1 is obj2)  # Output: True (Same instance)\n",
    "\n"
   ]
  },
  {
   "cell_type": "code",
   "execution_count": 5,
   "metadata": {},
   "outputs": [
    {
     "data": {
      "text/plain": [
       "'Meow'"
      ]
     },
     "execution_count": 5,
     "metadata": {},
     "output_type": "execute_result"
    }
   ],
   "source": [
    "# FACTORY METHOD PATTERN\n",
    "# Provides an interface for creating objects but lets subclasses decide which class to instantiate\n",
    "\n",
    "class Animal:\n",
    "    def speak(self):\n",
    "        pass\n",
    "    \n",
    "class Dog(Animal):\n",
    "    def speak(self):\n",
    "        return 'Woof'\n",
    "    \n",
    "class Cat(Animal):\n",
    "    def speak(self):\n",
    "        return 'Meow'\n",
    "\n",
    "class AnimalFactory:\n",
    "    @staticmethod\n",
    "    def get_animal(type_animal):\n",
    "        if type_animal =='dog':\n",
    "            return Dog()\n",
    "        elif type_animal=='cat':\n",
    "            return Cat()\n",
    "        else:\n",
    "            return None\n",
    "\n",
    "animal = AnimalFactory().get_animal('cat')\n",
    "animal.speak()\n",
    "\n",
    "        \n",
    "\n"
   ]
  },
  {
   "cell_type": "code",
   "execution_count": 10,
   "metadata": {},
   "outputs": [
    {
     "name": "stdout",
     "output_type": "stream",
     "text": [
      "<bound method CarBuilder.build of <__main__.CarBuilder object at 0x000002ED971A7380>>\n"
     ]
    }
   ],
   "source": [
    "#Builder pattern\n",
    "#Separates the construction of a complex object from its representation\n",
    "class  car:\n",
    "    def __init__(self):\n",
    "        self.model = None\n",
    "        self.engine = None\n",
    "        \n",
    "    def __str__(self):\n",
    "        return f\"Model:{self.model}, Engine:{self.engine}\"\n",
    "    \n",
    "    \n",
    "class CarBuilder:\n",
    "    def __init__(self):\n",
    "        self.car =car()\n",
    "        \n",
    "    def set_model(self, model):\n",
    "        self.model = model\n",
    "        return self\n",
    "    def set_engine(self,engine):\n",
    "        self.engine = engine\n",
    "        return self\n",
    "    \n",
    "    def build(self):\n",
    "        return self.car\n",
    "    \n",
    "builder = CarBuilder()\n",
    "car = builder.set_engine('Retro').set_model('toyota 2020').build\n",
    "\n",
    "    \n",
    "print(car)"
   ]
  },
  {
   "cell_type": "code",
   "execution_count": 4,
   "metadata": {},
   "outputs": [
    {
     "name": "stdout",
     "output_type": "stream",
     "text": [
      "new printer: hello\n"
     ]
    }
   ],
   "source": [
    "##########STRUCTURAL DESIGN PATTERNS\n",
    "'''Helps organizes different objects and classes'''\n",
    "## Adapter pattern\n",
    "'''Allows incompatible interfaces to work together'''\n",
    "class OldPrinter:\n",
    "    def old_text(self, text):\n",
    "        print(f'Old printer:{text}')\n",
    "        \n",
    "class NewPrinter:\n",
    "    def new_text(self, text):\n",
    "        print(f'new printer: {text}')\n",
    "        \n",
    "class PrinterAdapter:\n",
    "    def __init__(self, new_printer):\n",
    "        self.new_printer = new_printer\n",
    "        \n",
    "    def print_text(self, text):\n",
    "        self.new_printer.new_text(text)\n",
    "        \n",
    "        \n",
    "adapter = PrinterAdapter(NewPrinter())\n",
    "adapter.print_text('hello')\n",
    "\n",
    "        \n",
    "\n",
    "\n",
    "\n"
   ]
  },
  {
   "cell_type": "code",
   "execution_count": 15,
   "metadata": {},
   "outputs": [
    {
     "data": {
      "text/plain": [
       "'HELLO WORLD'"
      ]
     },
     "execution_count": 15,
     "metadata": {},
     "output_type": "execute_result"
    }
   ],
   "source": [
    "### Decorator Pattern\n",
    "# Adds new behavior to objects dynamically\n",
    "def uppercase_decorator(func):\n",
    "    def wrapper():\n",
    "        return func().upper()\n",
    "    return wrapper\n",
    "\n",
    "@uppercase_decorator\n",
    "def greet():\n",
    "    return \"hello world\"\n",
    "\n",
    "greet()\n",
    "\n",
    "\n"
   ]
  },
  {
   "cell_type": "code",
   "execution_count": 22,
   "metadata": {},
   "outputs": [
    {
     "name": "stdout",
     "output_type": "stream",
     "text": [
      "Proxy: checking access before forwarding request\n",
      "RealSubject: Handling request\n"
     ]
    }
   ],
   "source": [
    "## Proxy pattern\n",
    "'''Provides a substitute for another object to control access'''\n",
    "class RealSubject:\n",
    "    def request(self):\n",
    "        print('RealSubject: Handling request')\n",
    "class proxy:\n",
    "    def __init__(self):\n",
    "        self._real_subject = RealSubject()\n",
    "    def request(self):\n",
    "        print('Proxy: checking access before forwarding request')\n",
    "        self._real_subject.request()  \n",
    "pro=proxy()\n",
    "pro.request()\n",
    "        \n"
   ]
  },
  {
   "cell_type": "code",
   "execution_count": null,
   "metadata": {},
   "outputs": [
    {
     "name": "stdout",
     "output_type": "stream",
     "text": [
      "Recieved: Hello, Observers!\n",
      "Recieved: Hello, Observers!\n"
     ]
    }
   ],
   "source": [
    "##### BEHAVIORAL DESIGN PATTERNS\n",
    "'''Behavioral patterns manage interaction between objects'''\n",
    "## Observer Pattern\n",
    "'''Defines a dependency between objects so that when one object changes state, all dependents will be notified'''\n",
    "class Subject:\n",
    "    def __init__(self):\n",
    "        self.observers = []\n",
    "        \n",
    "    def attach(self, observer):\n",
    "        self.observers.append(observer)\n",
    "        \n",
    "    def notify(self, message):\n",
    "        for observer in self.observers:\n",
    "            observer.update(message)\n",
    "\n",
    "class Observer:\n",
    "    def update(self, message):\n",
    "        pass\n",
    "\n",
    "class concreteObserver(Observer):\n",
    "    def update(self, message):\n",
    "        print(f'Recieved: {message}')\n",
    "    \n",
    "    \n",
    "subject = Subject()\n",
    "observer1 = concreteObserver()\n",
    "observer2 = concreteObserver()\n",
    "\n",
    "subject.attach(observer1)\n",
    "subject.attach(observer2)\n",
    "\n",
    "subject.notify(\"Hello, Observers!\")\n",
    "\n",
    "    \n"
   ]
  },
  {
   "cell_type": "code",
   "execution_count": 5,
   "metadata": {},
   "outputs": [
    {
     "data": {
      "text/plain": [
       "[8, 2, 5, 3, 1]"
      ]
     },
     "execution_count": 5,
     "metadata": {},
     "output_type": "execute_result"
    }
   ],
   "source": [
    "### Strategy Pattern\n",
    "'''Defines a family of algorithms , encapsulate each one and makes them interchangeable '''\n",
    "\n",
    "class Strategy:\n",
    "    def execute(self, data):\n",
    "        pass\n",
    "    \n",
    "class Cont_strategyA(Strategy):\n",
    "    def execute(self, data):\n",
    "        return sorted(data)\n",
    "    \n",
    "class Cont_strategyB(Strategy):\n",
    "    def execute(self, data):\n",
    "        return list(reversed(data))\n",
    "    \n",
    "class Context:\n",
    "    def __init__(self,strategy):\n",
    "        self.strategy = strategy\n",
    "        \n",
    "    def execute_stra(self, data):\n",
    "        return self.strategy.execute(data)\n",
    "    \n",
    "data = [1,3,5,2,8]\n",
    "strat = Context(Cont_strategyA())\n",
    "strat.execute_stra(data)\n",
    "\n",
    "stra2 = Context(Cont_strategyB())\n",
    "stra2.execute_stra(data)\n",
    "        "
   ]
  },
  {
   "cell_type": "code",
   "execution_count": null,
   "metadata": {},
   "outputs": [],
   "source": [
    "'''5. Summary\n",
    "Pattern Type\t  Design Pattern\tDescription\n",
    "Creational\t      Singleton\t        Ensures one instance exists\n",
    "                  Factory Method\tCreates objects based on input\n",
    "                  Builder\t        Constructs complex objects step by step\n",
    "Structural\t      Adapter\t        Bridges incompatible interfaces\n",
    "                  Decorator\t        Dynamically adds behavior\n",
    "                  Proxy\t            Controls object access\n",
    "Behavioral        Observer\t        Notifies multiple objects of state change\n",
    "                  Strategy\t        Allows interchangeable algorithms'''"
   ]
  },
  {
   "cell_type": "code",
   "execution_count": null,
   "metadata": {},
   "outputs": [],
   "source": []
  }
 ],
 "metadata": {
  "kernelspec": {
   "display_name": "Python 3",
   "language": "python",
   "name": "python3"
  },
  "language_info": {
   "codemirror_mode": {
    "name": "ipython",
    "version": 3
   },
   "file_extension": ".py",
   "mimetype": "text/x-python",
   "name": "python",
   "nbconvert_exporter": "python",
   "pygments_lexer": "ipython3",
   "version": "3.13.1"
  }
 },
 "nbformat": 4,
 "nbformat_minor": 2
}
